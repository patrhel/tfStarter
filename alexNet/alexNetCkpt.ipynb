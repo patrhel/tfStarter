{
 "cells": [
  {
   "cell_type": "code",
   "execution_count": 4,
   "metadata": {
    "collapsed": false
   },
   "outputs": [
    {
     "name": "stdout",
     "output_type": "stream",
     "text": [
      "kelpie 0.486945\n",
      "Cardigan, Cardigan Welsh corgi 0.191103\n",
      "Border collie 0.171735\n",
      "collie 0.0684693\n",
      "German shepherd, German shepherd dog, German police dog, alsatian 0.0169954\n"
     ]
    }
   ],
   "source": [
    "'''   \n",
    "    AlexNet with weights from Caffe using https://github.com/ethereon/caffe-tensorflow\n",
    "    This example shows how to load the model and the meta-graph. This is just a proof of concept.\n",
    "    Additional Tensors can be loaded similar to the \"prob\" Tensor loaded in this example.\n",
    "    \n",
    "    AlexNet composition:\n",
    "        conv(11, 11, 96, 4, 4, padding='VALID', name='conv1')\n",
    "        lrn(2, 2e-05, 0.75, name='norm1')\n",
    "        max_pool(3, 3, 2, 2, padding='VALID', name='pool1')\n",
    "        conv(5, 5, 256, 1, 1, group=2, name='conv2')\n",
    "        lrn(2, 2e-05, 0.75, name='norm2')\n",
    "        max_pool(3, 3, 2, 2, padding='VALID', name='pool2')\n",
    "        conv(3, 3, 384, 1, 1, name='conv3')\n",
    "        conv(3, 3, 384, 1, 1, group=2, name='conv4')\n",
    "        conv(3, 3, 256, 1, 1, group=2, name='conv5')\n",
    "        fc(4096, name='fc6')\n",
    "        fc(4096, name='fc7')\n",
    "        fc(1000, relu=False, name='fc8')\n",
    "        softmax(name='prob'))  \n",
    "'''     \n",
    "\n",
    "from __future__ import absolute_import\n",
    "from __future__ import division\n",
    "from __future__ import print_function\n",
    "\n",
    "import tensorflow as tf\n",
    "import numpy as np\n",
    "\n",
    "from classes import labels\n",
    "\n",
    "# These two files will be created out of alexNet.npy by running alexNet.ipynb\n",
    "META_GRAPH = 'models/alexNet.ckpt.meta'\n",
    "MODEL = 'models/alexNet.ckpt'\n",
    "\n",
    "sess = tf.InteractiveSession()\n",
    "saver = tf.train.import_meta_graph(META_GRAPH)\n",
    "\n",
    "with tf.Session() as session:\n",
    "    prob = session.graph.get_tensor_by_name('prob:0') # the other Tensors can be obtained in the same way\n",
    "    saver.restore(session, MODEL)\n",
    "    prediction = session.run(prob)\n",
    "    \n",
    "    indices = np.argsort(prediction)[0,:][::-1] # the entry with the highest probability first\n",
    "    for i in range(5):\n",
    "        print(labels[indices[i]], prediction[0, indices[i]]) # print out the five entries with the highest probabilities"
   ]
  },
  {
   "cell_type": "code",
   "execution_count": null,
   "metadata": {
    "collapsed": true
   },
   "outputs": [],
   "source": []
  },
  {
   "cell_type": "code",
   "execution_count": null,
   "metadata": {
    "collapsed": true
   },
   "outputs": [],
   "source": []
  }
 ],
 "metadata": {
  "kernelspec": {
   "display_name": "Python 2",
   "language": "python",
   "name": "python2"
  },
  "language_info": {
   "codemirror_mode": {
    "name": "ipython",
    "version": 2
   },
   "file_extension": ".py",
   "mimetype": "text/x-python",
   "name": "python",
   "nbconvert_exporter": "python",
   "pygments_lexer": "ipython2",
   "version": "2.7.12"
  }
 },
 "nbformat": 4,
 "nbformat_minor": 1
}
